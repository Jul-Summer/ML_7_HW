{
  "nbformat": 4,
  "nbformat_minor": 0,
  "metadata": {
    "colab": {
      "provenance": [],
      "toc_visible": true
    },
    "kernelspec": {
      "name": "python3",
      "display_name": "Python 3"
    },
    "language_info": {
      "name": "python"
    }
  },
  "cells": [
    {
      "cell_type": "code",
      "source": [
        "from google.colab import files\n",
        "uploaded = files.upload()"
      ],
      "metadata": {
        "colab": {
          "base_uri": "https://localhost:8080/",
          "height": 73
        },
        "id": "PVT1EOt-KUvN",
        "outputId": "2566257a-d30a-442f-c29a-bda07a2adda8"
      },
      "execution_count": null,
      "outputs": [
        {
          "output_type": "display_data",
          "data": {
            "text/plain": [
              "<IPython.core.display.HTML object>"
            ],
            "text/html": [
              "\n",
              "     <input type=\"file\" id=\"files-37ab8e27-37c0-40ec-89f8-5de4fd6d3789\" name=\"files[]\" multiple disabled\n",
              "        style=\"border:none\" />\n",
              "     <output id=\"result-37ab8e27-37c0-40ec-89f8-5de4fd6d3789\">\n",
              "      Upload widget is only available when the cell has been executed in the\n",
              "      current browser session. Please rerun this cell to enable.\n",
              "      </output>\n",
              "      <script>// Copyright 2017 Google LLC\n",
              "//\n",
              "// Licensed under the Apache License, Version 2.0 (the \"License\");\n",
              "// you may not use this file except in compliance with the License.\n",
              "// You may obtain a copy of the License at\n",
              "//\n",
              "//      http://www.apache.org/licenses/LICENSE-2.0\n",
              "//\n",
              "// Unless required by applicable law or agreed to in writing, software\n",
              "// distributed under the License is distributed on an \"AS IS\" BASIS,\n",
              "// WITHOUT WARRANTIES OR CONDITIONS OF ANY KIND, either express or implied.\n",
              "// See the License for the specific language governing permissions and\n",
              "// limitations under the License.\n",
              "\n",
              "/**\n",
              " * @fileoverview Helpers for google.colab Python module.\n",
              " */\n",
              "(function(scope) {\n",
              "function span(text, styleAttributes = {}) {\n",
              "  const element = document.createElement('span');\n",
              "  element.textContent = text;\n",
              "  for (const key of Object.keys(styleAttributes)) {\n",
              "    element.style[key] = styleAttributes[key];\n",
              "  }\n",
              "  return element;\n",
              "}\n",
              "\n",
              "// Max number of bytes which will be uploaded at a time.\n",
              "const MAX_PAYLOAD_SIZE = 100 * 1024;\n",
              "\n",
              "function _uploadFiles(inputId, outputId) {\n",
              "  const steps = uploadFilesStep(inputId, outputId);\n",
              "  const outputElement = document.getElementById(outputId);\n",
              "  // Cache steps on the outputElement to make it available for the next call\n",
              "  // to uploadFilesContinue from Python.\n",
              "  outputElement.steps = steps;\n",
              "\n",
              "  return _uploadFilesContinue(outputId);\n",
              "}\n",
              "\n",
              "// This is roughly an async generator (not supported in the browser yet),\n",
              "// where there are multiple asynchronous steps and the Python side is going\n",
              "// to poll for completion of each step.\n",
              "// This uses a Promise to block the python side on completion of each step,\n",
              "// then passes the result of the previous step as the input to the next step.\n",
              "function _uploadFilesContinue(outputId) {\n",
              "  const outputElement = document.getElementById(outputId);\n",
              "  const steps = outputElement.steps;\n",
              "\n",
              "  const next = steps.next(outputElement.lastPromiseValue);\n",
              "  return Promise.resolve(next.value.promise).then((value) => {\n",
              "    // Cache the last promise value to make it available to the next\n",
              "    // step of the generator.\n",
              "    outputElement.lastPromiseValue = value;\n",
              "    return next.value.response;\n",
              "  });\n",
              "}\n",
              "\n",
              "/**\n",
              " * Generator function which is called between each async step of the upload\n",
              " * process.\n",
              " * @param {string} inputId Element ID of the input file picker element.\n",
              " * @param {string} outputId Element ID of the output display.\n",
              " * @return {!Iterable<!Object>} Iterable of next steps.\n",
              " */\n",
              "function* uploadFilesStep(inputId, outputId) {\n",
              "  const inputElement = document.getElementById(inputId);\n",
              "  inputElement.disabled = false;\n",
              "\n",
              "  const outputElement = document.getElementById(outputId);\n",
              "  outputElement.innerHTML = '';\n",
              "\n",
              "  const pickedPromise = new Promise((resolve) => {\n",
              "    inputElement.addEventListener('change', (e) => {\n",
              "      resolve(e.target.files);\n",
              "    });\n",
              "  });\n",
              "\n",
              "  const cancel = document.createElement('button');\n",
              "  inputElement.parentElement.appendChild(cancel);\n",
              "  cancel.textContent = 'Cancel upload';\n",
              "  const cancelPromise = new Promise((resolve) => {\n",
              "    cancel.onclick = () => {\n",
              "      resolve(null);\n",
              "    };\n",
              "  });\n",
              "\n",
              "  // Wait for the user to pick the files.\n",
              "  const files = yield {\n",
              "    promise: Promise.race([pickedPromise, cancelPromise]),\n",
              "    response: {\n",
              "      action: 'starting',\n",
              "    }\n",
              "  };\n",
              "\n",
              "  cancel.remove();\n",
              "\n",
              "  // Disable the input element since further picks are not allowed.\n",
              "  inputElement.disabled = true;\n",
              "\n",
              "  if (!files) {\n",
              "    return {\n",
              "      response: {\n",
              "        action: 'complete',\n",
              "      }\n",
              "    };\n",
              "  }\n",
              "\n",
              "  for (const file of files) {\n",
              "    const li = document.createElement('li');\n",
              "    li.append(span(file.name, {fontWeight: 'bold'}));\n",
              "    li.append(span(\n",
              "        `(${file.type || 'n/a'}) - ${file.size} bytes, ` +\n",
              "        `last modified: ${\n",
              "            file.lastModifiedDate ? file.lastModifiedDate.toLocaleDateString() :\n",
              "                                    'n/a'} - `));\n",
              "    const percent = span('0% done');\n",
              "    li.appendChild(percent);\n",
              "\n",
              "    outputElement.appendChild(li);\n",
              "\n",
              "    const fileDataPromise = new Promise((resolve) => {\n",
              "      const reader = new FileReader();\n",
              "      reader.onload = (e) => {\n",
              "        resolve(e.target.result);\n",
              "      };\n",
              "      reader.readAsArrayBuffer(file);\n",
              "    });\n",
              "    // Wait for the data to be ready.\n",
              "    let fileData = yield {\n",
              "      promise: fileDataPromise,\n",
              "      response: {\n",
              "        action: 'continue',\n",
              "      }\n",
              "    };\n",
              "\n",
              "    // Use a chunked sending to avoid message size limits. See b/62115660.\n",
              "    let position = 0;\n",
              "    do {\n",
              "      const length = Math.min(fileData.byteLength - position, MAX_PAYLOAD_SIZE);\n",
              "      const chunk = new Uint8Array(fileData, position, length);\n",
              "      position += length;\n",
              "\n",
              "      const base64 = btoa(String.fromCharCode.apply(null, chunk));\n",
              "      yield {\n",
              "        response: {\n",
              "          action: 'append',\n",
              "          file: file.name,\n",
              "          data: base64,\n",
              "        },\n",
              "      };\n",
              "\n",
              "      let percentDone = fileData.byteLength === 0 ?\n",
              "          100 :\n",
              "          Math.round((position / fileData.byteLength) * 100);\n",
              "      percent.textContent = `${percentDone}% done`;\n",
              "\n",
              "    } while (position < fileData.byteLength);\n",
              "  }\n",
              "\n",
              "  // All done.\n",
              "  yield {\n",
              "    response: {\n",
              "      action: 'complete',\n",
              "    }\n",
              "  };\n",
              "}\n",
              "\n",
              "scope.google = scope.google || {};\n",
              "scope.google.colab = scope.google.colab || {};\n",
              "scope.google.colab._files = {\n",
              "  _uploadFiles,\n",
              "  _uploadFilesContinue,\n",
              "};\n",
              "})(self);\n",
              "</script> "
            ]
          },
          "metadata": {}
        },
        {
          "output_type": "stream",
          "name": "stdout",
          "text": [
            "Saving _train_sem09 (1).csv to _train_sem09 (1).csv\n"
          ]
        }
      ]
    },
    {
      "cell_type": "markdown",
      "source": [
        "# Прогнозирование биологического ответа."
      ],
      "metadata": {
        "id": "L9eCGhRnSTLs"
      }
    },
    {
      "cell_type": "markdown",
      "source": [
        "Необходимо предсказать биологический ответ молекул (столбец 'Activity') по их химическому составу (столбцы D1-D1776).\n",
        "Данные представлены в формате CSV.  Каждая строка представляет молекулу.\n",
        "\n",
        "Первый столбец Activity содержит экспериментальные данные, описывающие фактический биологический ответ [0, 1];\n",
        "Остальные столбцы D1-D1776 представляют собой молекулярные дескрипторы — это вычисляемые свойства, которые могут фиксировать некоторые характеристики молекулы, например размер, форму или состав элементов.                                     \n",
        "**Предварительная обработка не требуется, данные уже закодированы и нормализованы.**\n",
        "\n",
        "В качестве метрики будем использовать F1-score.\n",
        "Необходимо обучить две модели: логистическую регрессию и случайный лес. Далее нужно сделать подбор гиперпараметров с помощью базовых и продвинутых методов оптимизации. Важно использовать все четыре метода (GridSeachCV, RandomizedSearchCV, Hyperopt, Optuna) хотя бы по разу, максимальное количество итераций не должно превышать 50."
      ],
      "metadata": {
        "id": "b_XE2dwnSi1n"
      }
    },
    {
      "cell_type": "code",
      "source": [
        "import pandas as pd\n",
        "data = pd.read_csv('_train_sem09 (1).csv')\n",
        "data.head()"
      ],
      "metadata": {
        "colab": {
          "base_uri": "https://localhost:8080/",
          "height": 255
        },
        "id": "5AcKWUHyL94A",
        "outputId": "7f6f71e6-4f9c-4bde-ddf1-03422e7b0e90"
      },
      "execution_count": null,
      "outputs": [
        {
          "output_type": "execute_result",
          "data": {
            "text/plain": [
              "   Activity        D1        D2    D3   D4        D5        D6        D7  \\\n",
              "0         1  0.000000  0.497009  0.10  0.0  0.132956  0.678031  0.273166   \n",
              "1         1  0.366667  0.606291  0.05  0.0  0.111209  0.803455  0.106105   \n",
              "2         1  0.033300  0.480124  0.00  0.0  0.209791  0.610350  0.356453   \n",
              "3         1  0.000000  0.538825  0.00  0.5  0.196344  0.724230  0.235606   \n",
              "4         0  0.100000  0.517794  0.00  0.0  0.494734  0.781422  0.154361   \n",
              "\n",
              "         D8        D9  ...  D1767  D1768  D1769  D1770  D1771  D1772  D1773  \\\n",
              "0  0.585445  0.743663  ...      0      0      0      0      0      0      0   \n",
              "1  0.411754  0.836582  ...      1      1      1      1      0      1      0   \n",
              "2  0.517720  0.679051  ...      0      0      0      0      0      0      0   \n",
              "3  0.288764  0.805110  ...      0      0      0      0      0      0      0   \n",
              "4  0.303809  0.812646  ...      0      0      0      0      0      0      0   \n",
              "\n",
              "   D1774  D1775  D1776  \n",
              "0      0      0      0  \n",
              "1      0      1      0  \n",
              "2      0      0      0  \n",
              "3      0      0      0  \n",
              "4      0      0      0  \n",
              "\n",
              "[5 rows x 1777 columns]"
            ],
            "text/html": [
              "\n",
              "  <div id=\"df-16c1724c-7dc5-4e85-bdda-881814a4cca7\" class=\"colab-df-container\">\n",
              "    <div>\n",
              "<style scoped>\n",
              "    .dataframe tbody tr th:only-of-type {\n",
              "        vertical-align: middle;\n",
              "    }\n",
              "\n",
              "    .dataframe tbody tr th {\n",
              "        vertical-align: top;\n",
              "    }\n",
              "\n",
              "    .dataframe thead th {\n",
              "        text-align: right;\n",
              "    }\n",
              "</style>\n",
              "<table border=\"1\" class=\"dataframe\">\n",
              "  <thead>\n",
              "    <tr style=\"text-align: right;\">\n",
              "      <th></th>\n",
              "      <th>Activity</th>\n",
              "      <th>D1</th>\n",
              "      <th>D2</th>\n",
              "      <th>D3</th>\n",
              "      <th>D4</th>\n",
              "      <th>D5</th>\n",
              "      <th>D6</th>\n",
              "      <th>D7</th>\n",
              "      <th>D8</th>\n",
              "      <th>D9</th>\n",
              "      <th>...</th>\n",
              "      <th>D1767</th>\n",
              "      <th>D1768</th>\n",
              "      <th>D1769</th>\n",
              "      <th>D1770</th>\n",
              "      <th>D1771</th>\n",
              "      <th>D1772</th>\n",
              "      <th>D1773</th>\n",
              "      <th>D1774</th>\n",
              "      <th>D1775</th>\n",
              "      <th>D1776</th>\n",
              "    </tr>\n",
              "  </thead>\n",
              "  <tbody>\n",
              "    <tr>\n",
              "      <th>0</th>\n",
              "      <td>1</td>\n",
              "      <td>0.000000</td>\n",
              "      <td>0.497009</td>\n",
              "      <td>0.10</td>\n",
              "      <td>0.0</td>\n",
              "      <td>0.132956</td>\n",
              "      <td>0.678031</td>\n",
              "      <td>0.273166</td>\n",
              "      <td>0.585445</td>\n",
              "      <td>0.743663</td>\n",
              "      <td>...</td>\n",
              "      <td>0</td>\n",
              "      <td>0</td>\n",
              "      <td>0</td>\n",
              "      <td>0</td>\n",
              "      <td>0</td>\n",
              "      <td>0</td>\n",
              "      <td>0</td>\n",
              "      <td>0</td>\n",
              "      <td>0</td>\n",
              "      <td>0</td>\n",
              "    </tr>\n",
              "    <tr>\n",
              "      <th>1</th>\n",
              "      <td>1</td>\n",
              "      <td>0.366667</td>\n",
              "      <td>0.606291</td>\n",
              "      <td>0.05</td>\n",
              "      <td>0.0</td>\n",
              "      <td>0.111209</td>\n",
              "      <td>0.803455</td>\n",
              "      <td>0.106105</td>\n",
              "      <td>0.411754</td>\n",
              "      <td>0.836582</td>\n",
              "      <td>...</td>\n",
              "      <td>1</td>\n",
              "      <td>1</td>\n",
              "      <td>1</td>\n",
              "      <td>1</td>\n",
              "      <td>0</td>\n",
              "      <td>1</td>\n",
              "      <td>0</td>\n",
              "      <td>0</td>\n",
              "      <td>1</td>\n",
              "      <td>0</td>\n",
              "    </tr>\n",
              "    <tr>\n",
              "      <th>2</th>\n",
              "      <td>1</td>\n",
              "      <td>0.033300</td>\n",
              "      <td>0.480124</td>\n",
              "      <td>0.00</td>\n",
              "      <td>0.0</td>\n",
              "      <td>0.209791</td>\n",
              "      <td>0.610350</td>\n",
              "      <td>0.356453</td>\n",
              "      <td>0.517720</td>\n",
              "      <td>0.679051</td>\n",
              "      <td>...</td>\n",
              "      <td>0</td>\n",
              "      <td>0</td>\n",
              "      <td>0</td>\n",
              "      <td>0</td>\n",
              "      <td>0</td>\n",
              "      <td>0</td>\n",
              "      <td>0</td>\n",
              "      <td>0</td>\n",
              "      <td>0</td>\n",
              "      <td>0</td>\n",
              "    </tr>\n",
              "    <tr>\n",
              "      <th>3</th>\n",
              "      <td>1</td>\n",
              "      <td>0.000000</td>\n",
              "      <td>0.538825</td>\n",
              "      <td>0.00</td>\n",
              "      <td>0.5</td>\n",
              "      <td>0.196344</td>\n",
              "      <td>0.724230</td>\n",
              "      <td>0.235606</td>\n",
              "      <td>0.288764</td>\n",
              "      <td>0.805110</td>\n",
              "      <td>...</td>\n",
              "      <td>0</td>\n",
              "      <td>0</td>\n",
              "      <td>0</td>\n",
              "      <td>0</td>\n",
              "      <td>0</td>\n",
              "      <td>0</td>\n",
              "      <td>0</td>\n",
              "      <td>0</td>\n",
              "      <td>0</td>\n",
              "      <td>0</td>\n",
              "    </tr>\n",
              "    <tr>\n",
              "      <th>4</th>\n",
              "      <td>0</td>\n",
              "      <td>0.100000</td>\n",
              "      <td>0.517794</td>\n",
              "      <td>0.00</td>\n",
              "      <td>0.0</td>\n",
              "      <td>0.494734</td>\n",
              "      <td>0.781422</td>\n",
              "      <td>0.154361</td>\n",
              "      <td>0.303809</td>\n",
              "      <td>0.812646</td>\n",
              "      <td>...</td>\n",
              "      <td>0</td>\n",
              "      <td>0</td>\n",
              "      <td>0</td>\n",
              "      <td>0</td>\n",
              "      <td>0</td>\n",
              "      <td>0</td>\n",
              "      <td>0</td>\n",
              "      <td>0</td>\n",
              "      <td>0</td>\n",
              "      <td>0</td>\n",
              "    </tr>\n",
              "  </tbody>\n",
              "</table>\n",
              "<p>5 rows × 1777 columns</p>\n",
              "</div>\n",
              "    <div class=\"colab-df-buttons\">\n",
              "\n",
              "  <div class=\"colab-df-container\">\n",
              "    <button class=\"colab-df-convert\" onclick=\"convertToInteractive('df-16c1724c-7dc5-4e85-bdda-881814a4cca7')\"\n",
              "            title=\"Convert this dataframe to an interactive table.\"\n",
              "            style=\"display:none;\">\n",
              "\n",
              "  <svg xmlns=\"http://www.w3.org/2000/svg\" height=\"24px\" viewBox=\"0 -960 960 960\">\n",
              "    <path d=\"M120-120v-720h720v720H120Zm60-500h600v-160H180v160Zm220 220h160v-160H400v160Zm0 220h160v-160H400v160ZM180-400h160v-160H180v160Zm440 0h160v-160H620v160ZM180-180h160v-160H180v160Zm440 0h160v-160H620v160Z\"/>\n",
              "  </svg>\n",
              "    </button>\n",
              "\n",
              "  <style>\n",
              "    .colab-df-container {\n",
              "      display:flex;\n",
              "      gap: 12px;\n",
              "    }\n",
              "\n",
              "    .colab-df-convert {\n",
              "      background-color: #E8F0FE;\n",
              "      border: none;\n",
              "      border-radius: 50%;\n",
              "      cursor: pointer;\n",
              "      display: none;\n",
              "      fill: #1967D2;\n",
              "      height: 32px;\n",
              "      padding: 0 0 0 0;\n",
              "      width: 32px;\n",
              "    }\n",
              "\n",
              "    .colab-df-convert:hover {\n",
              "      background-color: #E2EBFA;\n",
              "      box-shadow: 0px 1px 2px rgba(60, 64, 67, 0.3), 0px 1px 3px 1px rgba(60, 64, 67, 0.15);\n",
              "      fill: #174EA6;\n",
              "    }\n",
              "\n",
              "    .colab-df-buttons div {\n",
              "      margin-bottom: 4px;\n",
              "    }\n",
              "\n",
              "    [theme=dark] .colab-df-convert {\n",
              "      background-color: #3B4455;\n",
              "      fill: #D2E3FC;\n",
              "    }\n",
              "\n",
              "    [theme=dark] .colab-df-convert:hover {\n",
              "      background-color: #434B5C;\n",
              "      box-shadow: 0px 1px 3px 1px rgba(0, 0, 0, 0.15);\n",
              "      filter: drop-shadow(0px 1px 2px rgba(0, 0, 0, 0.3));\n",
              "      fill: #FFFFFF;\n",
              "    }\n",
              "  </style>\n",
              "\n",
              "    <script>\n",
              "      const buttonEl =\n",
              "        document.querySelector('#df-16c1724c-7dc5-4e85-bdda-881814a4cca7 button.colab-df-convert');\n",
              "      buttonEl.style.display =\n",
              "        google.colab.kernel.accessAllowed ? 'block' : 'none';\n",
              "\n",
              "      async function convertToInteractive(key) {\n",
              "        const element = document.querySelector('#df-16c1724c-7dc5-4e85-bdda-881814a4cca7');\n",
              "        const dataTable =\n",
              "          await google.colab.kernel.invokeFunction('convertToInteractive',\n",
              "                                                    [key], {});\n",
              "        if (!dataTable) return;\n",
              "\n",
              "        const docLinkHtml = 'Like what you see? Visit the ' +\n",
              "          '<a target=\"_blank\" href=https://colab.research.google.com/notebooks/data_table.ipynb>data table notebook</a>'\n",
              "          + ' to learn more about interactive tables.';\n",
              "        element.innerHTML = '';\n",
              "        dataTable['output_type'] = 'display_data';\n",
              "        await google.colab.output.renderOutput(dataTable, element);\n",
              "        const docLink = document.createElement('div');\n",
              "        docLink.innerHTML = docLinkHtml;\n",
              "        element.appendChild(docLink);\n",
              "      }\n",
              "    </script>\n",
              "  </div>\n",
              "\n",
              "\n",
              "<div id=\"df-e58e32ac-5995-40ca-a659-ea34d91a6592\">\n",
              "  <button class=\"colab-df-quickchart\" onclick=\"quickchart('df-e58e32ac-5995-40ca-a659-ea34d91a6592')\"\n",
              "            title=\"Suggest charts\"\n",
              "            style=\"display:none;\">\n",
              "\n",
              "<svg xmlns=\"http://www.w3.org/2000/svg\" height=\"24px\"viewBox=\"0 0 24 24\"\n",
              "     width=\"24px\">\n",
              "    <g>\n",
              "        <path d=\"M19 3H5c-1.1 0-2 .9-2 2v14c0 1.1.9 2 2 2h14c1.1 0 2-.9 2-2V5c0-1.1-.9-2-2-2zM9 17H7v-7h2v7zm4 0h-2V7h2v10zm4 0h-2v-4h2v4z\"/>\n",
              "    </g>\n",
              "</svg>\n",
              "  </button>\n",
              "\n",
              "<style>\n",
              "  .colab-df-quickchart {\n",
              "      --bg-color: #E8F0FE;\n",
              "      --fill-color: #1967D2;\n",
              "      --hover-bg-color: #E2EBFA;\n",
              "      --hover-fill-color: #174EA6;\n",
              "      --disabled-fill-color: #AAA;\n",
              "      --disabled-bg-color: #DDD;\n",
              "  }\n",
              "\n",
              "  [theme=dark] .colab-df-quickchart {\n",
              "      --bg-color: #3B4455;\n",
              "      --fill-color: #D2E3FC;\n",
              "      --hover-bg-color: #434B5C;\n",
              "      --hover-fill-color: #FFFFFF;\n",
              "      --disabled-bg-color: #3B4455;\n",
              "      --disabled-fill-color: #666;\n",
              "  }\n",
              "\n",
              "  .colab-df-quickchart {\n",
              "    background-color: var(--bg-color);\n",
              "    border: none;\n",
              "    border-radius: 50%;\n",
              "    cursor: pointer;\n",
              "    display: none;\n",
              "    fill: var(--fill-color);\n",
              "    height: 32px;\n",
              "    padding: 0;\n",
              "    width: 32px;\n",
              "  }\n",
              "\n",
              "  .colab-df-quickchart:hover {\n",
              "    background-color: var(--hover-bg-color);\n",
              "    box-shadow: 0 1px 2px rgba(60, 64, 67, 0.3), 0 1px 3px 1px rgba(60, 64, 67, 0.15);\n",
              "    fill: var(--button-hover-fill-color);\n",
              "  }\n",
              "\n",
              "  .colab-df-quickchart-complete:disabled,\n",
              "  .colab-df-quickchart-complete:disabled:hover {\n",
              "    background-color: var(--disabled-bg-color);\n",
              "    fill: var(--disabled-fill-color);\n",
              "    box-shadow: none;\n",
              "  }\n",
              "\n",
              "  .colab-df-spinner {\n",
              "    border: 2px solid var(--fill-color);\n",
              "    border-color: transparent;\n",
              "    border-bottom-color: var(--fill-color);\n",
              "    animation:\n",
              "      spin 1s steps(1) infinite;\n",
              "  }\n",
              "\n",
              "  @keyframes spin {\n",
              "    0% {\n",
              "      border-color: transparent;\n",
              "      border-bottom-color: var(--fill-color);\n",
              "      border-left-color: var(--fill-color);\n",
              "    }\n",
              "    20% {\n",
              "      border-color: transparent;\n",
              "      border-left-color: var(--fill-color);\n",
              "      border-top-color: var(--fill-color);\n",
              "    }\n",
              "    30% {\n",
              "      border-color: transparent;\n",
              "      border-left-color: var(--fill-color);\n",
              "      border-top-color: var(--fill-color);\n",
              "      border-right-color: var(--fill-color);\n",
              "    }\n",
              "    40% {\n",
              "      border-color: transparent;\n",
              "      border-right-color: var(--fill-color);\n",
              "      border-top-color: var(--fill-color);\n",
              "    }\n",
              "    60% {\n",
              "      border-color: transparent;\n",
              "      border-right-color: var(--fill-color);\n",
              "    }\n",
              "    80% {\n",
              "      border-color: transparent;\n",
              "      border-right-color: var(--fill-color);\n",
              "      border-bottom-color: var(--fill-color);\n",
              "    }\n",
              "    90% {\n",
              "      border-color: transparent;\n",
              "      border-bottom-color: var(--fill-color);\n",
              "    }\n",
              "  }\n",
              "</style>\n",
              "\n",
              "  <script>\n",
              "    async function quickchart(key) {\n",
              "      const quickchartButtonEl =\n",
              "        document.querySelector('#' + key + ' button');\n",
              "      quickchartButtonEl.disabled = true;  // To prevent multiple clicks.\n",
              "      quickchartButtonEl.classList.add('colab-df-spinner');\n",
              "      try {\n",
              "        const charts = await google.colab.kernel.invokeFunction(\n",
              "            'suggestCharts', [key], {});\n",
              "      } catch (error) {\n",
              "        console.error('Error during call to suggestCharts:', error);\n",
              "      }\n",
              "      quickchartButtonEl.classList.remove('colab-df-spinner');\n",
              "      quickchartButtonEl.classList.add('colab-df-quickchart-complete');\n",
              "    }\n",
              "    (() => {\n",
              "      let quickchartButtonEl =\n",
              "        document.querySelector('#df-e58e32ac-5995-40ca-a659-ea34d91a6592 button');\n",
              "      quickchartButtonEl.style.display =\n",
              "        google.colab.kernel.accessAllowed ? 'block' : 'none';\n",
              "    })();\n",
              "  </script>\n",
              "</div>\n",
              "\n",
              "    </div>\n",
              "  </div>\n"
            ],
            "application/vnd.google.colaboratory.intrinsic+json": {
              "type": "dataframe",
              "variable_name": "data"
            }
          },
          "metadata": {},
          "execution_count": 4
        }
      ]
    },
    {
      "cell_type": "code",
      "source": [
        "%%capture\n",
        "!pip install seaborn\n",
        "!pip install hyperopt\n",
        "!pip install optuna\n",
        "!pip install ipywidgets"
      ],
      "metadata": {
        "id": "5q21CQFrNhaK"
      },
      "execution_count": null,
      "outputs": []
    },
    {
      "cell_type": "code",
      "source": [
        "import pandas as pd\n",
        "from sklearn.model_selection import train_test_split, GridSearchCV, RandomizedSearchCV\n",
        "from sklearn.linear_model import LogisticRegression\n",
        "from sklearn.ensemble import RandomForestClassifier\n",
        "from sklearn.metrics import f1_score\n",
        "from sklearn.model_selection import cross_val_score\n",
        "from sklearn.metrics import classification_report\n"
      ],
      "metadata": {
        "id": "Fm96NW3Wx9AE"
      },
      "execution_count": null,
      "outputs": []
    },
    {
      "cell_type": "code",
      "source": [
        "import numpy as np\n",
        "random_seed = 42"
      ],
      "metadata": {
        "id": "Gjtye5RnOhWS"
      },
      "execution_count": null,
      "outputs": []
    },
    {
      "cell_type": "code",
      "source": [
        "!pip freeze > requirements.txt"
      ],
      "metadata": {
        "id": "x7y4oo3xO89c"
      },
      "execution_count": null,
      "outputs": []
    },
    {
      "cell_type": "code",
      "source": [
        "data.info()"
      ],
      "metadata": {
        "colab": {
          "base_uri": "https://localhost:8080/"
        },
        "id": "R5MX82LvPFaI",
        "outputId": "3801e35f-526d-420a-9978-081cd986734f"
      },
      "execution_count": null,
      "outputs": [
        {
          "output_type": "stream",
          "name": "stdout",
          "text": [
            "<class 'pandas.core.frame.DataFrame'>\n",
            "RangeIndex: 3751 entries, 0 to 3750\n",
            "Columns: 1777 entries, Activity to D1776\n",
            "dtypes: float64(942), int64(835)\n",
            "memory usage: 50.9 MB\n"
          ]
        }
      ]
    },
    {
      "cell_type": "code",
      "source": [
        "import seaborn as sns\n",
        "\n",
        "# Проверка на сбалансированность таргета\n",
        "sns.countplot(data=data, x='Activity');\n",
        "print(data['Activity'].value_counts()[1] / data['Activity'].value_counts()[0] - 1)\n"
      ],
      "metadata": {
        "colab": {
          "base_uri": "https://localhost:8080/",
          "height": 467
        },
        "id": "mf1JsT1vXKmA",
        "outputId": "44a4042c-c5be-421e-ca2f-b2b9d547cdf8"
      },
      "execution_count": null,
      "outputs": [
        {
          "output_type": "stream",
          "name": "stdout",
          "text": [
            "0.18462434478741985\n"
          ]
        },
        {
          "output_type": "display_data",
          "data": {
            "text/plain": [
              "<Figure size 640x480 with 1 Axes>"
            ],
            "image/png": "[encoded data removed]"
          },
          "metadata": {}
        }
      ]
    },
    {
      "cell_type": "code",
      "source": [
        "data['Activity'].value_counts()"
      ],
      "metadata": {
        "colab": {
          "base_uri": "https://localhost:8080/",
          "height": 178
        },
        "id": "-kRiUJEq_wyq",
        "outputId": "64293b62-d612-46ca-90bc-badc24c09f12"
      },
      "execution_count": null,
      "outputs": [
        {
          "output_type": "execute_result",
          "data": {
            "text/plain": [
              "Activity\n",
              "1    2034\n",
              "0    1717\n",
              "Name: count, dtype: int64"
            ],
            "text/html": [
              "<div>\n",
              "<style scoped>\n",
              "    .dataframe tbody tr th:only-of-type {\n",
              "        vertical-align: middle;\n",
              "    }\n",
              "\n",
              "    .dataframe tbody tr th {\n",
              "        vertical-align: top;\n",
              "    }\n",
              "\n",
              "    .dataframe thead th {\n",
              "        text-align: right;\n",
              "    }\n",
              "</style>\n",
              "<table border=\"1\" class=\"dataframe\">\n",
              "  <thead>\n",
              "    <tr style=\"text-align: right;\">\n",
              "      <th></th>\n",
              "      <th>count</th>\n",
              "    </tr>\n",
              "    <tr>\n",
              "      <th>Activity</th>\n",
              "      <th></th>\n",
              "    </tr>\n",
              "  </thead>\n",
              "  <tbody>\n",
              "    <tr>\n",
              "      <th>1</th>\n",
              "      <td>2034</td>\n",
              "    </tr>\n",
              "    <tr>\n",
              "      <th>0</th>\n",
              "      <td>1717</td>\n",
              "    </tr>\n",
              "  </tbody>\n",
              "</table>\n",
              "</div><br><label><b>dtype:</b> int64</label>"
            ]
          },
          "metadata": {},
          "execution_count": 9
        }
      ]
    },
    {
      "cell_type": "code",
      "source": [
        "# Разделение выборки на обучающюю и тестовую\n",
        "from sklearn.model_selection import train_test_split\n",
        "random_seed = 42\n",
        "\n",
        "\n",
        "X = data.drop(['Activity'], axis=1)\n",
        "y = data['Activity']\n",
        "X_train, X_test, y_train, y_test = train_test_split(X, y, stratify=y, random_state=random_seed, test_size=0.2)\n",
        "\n",
        "X_train.shape, X_test.shape"
      ],
      "metadata": {
        "id": "ttWFQBkWXWLH",
        "colab": {
          "base_uri": "https://localhost:8080/"
        },
        "outputId": "5fb2b636-d241-40de-a7a4-0a69c931f1fd"
      },
      "execution_count": null,
      "outputs": [
        {
          "output_type": "execute_result",
          "data": {
            "text/plain": [
              "((3000, 1776), (751, 1776))"
            ]
          },
          "metadata": {},
          "execution_count": 10
        }
      ]
    },
    {
      "cell_type": "code",
      "source": [
        "%%time\n",
        "\n",
        "from sklearn.linear_model import LogisticRegression\n",
        "from sklearn import metrics\n",
        "from sklearn.metrics import f1_score\n",
        "# Создаем объект класса логистическая регрессия\n",
        "#lr = LogisticRegression(random_state=42)\n",
        "lr = LogisticRegression(random_state=42, solver='saga', max_iter=1000)\n",
        "\n",
        "# Обучаем модель\n",
        "lr.fit(X_train, y_train)\n",
        "\n",
        "print(\"accuracy на тестовом наборе: {:.2f}\".format(lr.score(X_test, y_test)))\n",
        "y_test_pred = lr.predict(X_test)\n",
        "print('f1_score на тестовом наборе: {:.2f}'.format(metrics.f1_score(y_test, y_test_pred)))\n"
      ],
      "metadata": {
        "colab": {
          "base_uri": "https://localhost:8080/"
        },
        "id": "jZM6V6yeYj9l",
        "outputId": "2d8de5a8-d930-40fd-a416-e1ed56a19eea"
      },
      "execution_count": null,
      "outputs": [
        {
          "output_type": "stream",
          "name": "stdout",
          "text": [
            "accuracy на тестовом наборе: 0.75\n",
            "f1_score на тестовом наборе: 0.78\n",
            "CPU times: user 1min 4s, sys: 65.4 ms, total: 1min 4s\n",
            "Wall time: 1min 6s\n"
          ]
        }
      ]
    },
    {
      "cell_type": "markdown",
      "source": [
        "# RandomForestClassifier\n",
        "- Построение модели случайного леса\n",
        "- Настройка гиперпараметров - GridSearchCV\n",
        "- Настройка гиперпараметров - RandomizedSearchCV   "
      ],
      "metadata": {
        "id": "T9NnT5hMTRZ9"
      }
    },
    {
      "cell_type": "code",
      "source": [
        "%%time\n",
        "model = RandomForestClassifier()\n",
        "model.fit(X_train, y_train)\n",
        "\n",
        "# прогноз модели\n",
        "y_pred = model.predict(X_test)\n",
        "\n",
        "# показатели оценки эффективности модели\n",
        "print(classification_report(y_pred, y_test))\n",
        "\n"
      ],
      "metadata": {
        "colab": {
          "base_uri": "https://localhost:8080/"
        },
        "id": "062MnTy--3un",
        "outputId": "08b89777-0dd3-4331-9bcc-8cb06f03ae85"
      },
      "execution_count": null,
      "outputs": [
        {
          "output_type": "stream",
          "name": "stdout",
          "text": [
            "              precision    recall  f1-score   support\n",
            "\n",
            "           0       0.74      0.77      0.75       329\n",
            "           1       0.82      0.79      0.80       422\n",
            "\n",
            "    accuracy                           0.78       751\n",
            "   macro avg       0.78      0.78      0.78       751\n",
            "weighted avg       0.78      0.78      0.78       751\n",
            "\n",
            "CPU times: user 2.17 s, sys: 37.7 ms, total: 2.21 s\n",
            "Wall time: 2.21 s\n"
          ]
        }
      ]
    },
    {
      "cell_type": "code",
      "source": [
        "param_grid = {\n",
        "\t'n_estimators': [25, 50, 100, 150],\n",
        "\t'max_features': ['sqrt', 'log2', None],\n",
        "\t'max_depth': [3, 6, 9],\n",
        "\t'max_leaf_nodes': [3, 6, 9],\n",
        "}\n"
      ],
      "metadata": {
        "id": "Vp9KaJpL_8hy"
      },
      "execution_count": null,
      "outputs": []
    },
    {
      "cell_type": "code",
      "source": [
        "%%time\n",
        "# Параметры, полученные с помощью GridSearchCV\n",
        "\n",
        "grid_search = GridSearchCV(RandomForestClassifier(),\n",
        "\t\t\t\t\t\tparam_grid=param_grid)\n",
        "grid_search.fit(X_train, y_train)\n",
        "print(grid_search.best_estimator_)\n"
      ],
      "metadata": {
        "colab": {
          "base_uri": "https://localhost:8080/"
        },
        "id": "EDAg4rKo_8ky",
        "outputId": "6d27bc15-6d59-41d5-e5c8-14ddaed74de3"
      },
      "execution_count": null,
      "outputs": [
        {
          "output_type": "stream",
          "name": "stdout",
          "text": [
            "RandomForestClassifier(max_depth=9, max_features=None, max_leaf_nodes=9,\n",
            "                       n_estimators=150)\n",
            "CPU times: user 32min 56s, sys: 6.09 s, total: 33min 2s\n",
            "Wall time: 33min 9s\n"
          ]
        }
      ]
    },
    {
      "cell_type": "code",
      "source": [
        "%%time\n",
        "\n",
        "#Теперь обновим параметры модели теми, которые получены с помощью GridSearchCV\n",
        "model_grid = RandomForestClassifier(max_depth=9,\n",
        "\t\t\t\t\t\t\t\t\tmax_features=None,\n",
        "\t\t\t\t\t\t\t\t\tmax_leaf_nodes=9,\n",
        "\t\t\t\t\t\t\t\t\tn_estimators=150)\n",
        "model_grid.fit(X_train, y_train)\n",
        "y_pred_grid = model.predict(X_test)\n",
        "print(classification_report(y_pred_grid, y_test))\n"
      ],
      "metadata": {
        "colab": {
          "base_uri": "https://localhost:8080/"
        },
        "id": "gFgzFuqt_8oB",
        "outputId": "f68888ff-b65d-491a-9060-f9f5678db5ca"
      },
      "execution_count": null,
      "outputs": [
        {
          "output_type": "stream",
          "name": "stdout",
          "text": [
            "              precision    recall  f1-score   support\n",
            "\n",
            "           0       0.74      0.77      0.75       329\n",
            "           1       0.82      0.79      0.80       422\n",
            "\n",
            "    accuracy                           0.78       751\n",
            "   macro avg       0.78      0.78      0.78       751\n",
            "weighted avg       0.78      0.78      0.78       751\n",
            "\n",
            "CPU times: user 33.3 s, sys: 53.7 ms, total: 33.3 s\n",
            "Wall time: 36.1 s\n"
          ]
        }
      ]
    },
    {
      "cell_type": "code",
      "source": [
        "%%time\n",
        "# Параметры, полученные с помощью RandomizedSearchCV\n",
        "\n",
        "random_search = RandomizedSearchCV(RandomForestClassifier(),\n",
        "\t\t\t\t\t\t\t\tparam_grid)\n",
        "random_search.fit(X_train, y_train)\n",
        "print(random_search.best_estimator_)\n"
      ],
      "metadata": {
        "colab": {
          "base_uri": "https://localhost:8080/"
        },
        "id": "ZkvMuG88ANC9",
        "outputId": "20d2cd99-d6bc-4bc9-fad4-20b2110de21d"
      },
      "execution_count": null,
      "outputs": [
        {
          "output_type": "stream",
          "name": "stdout",
          "text": [
            "RandomForestClassifier(max_depth=6, max_features=None, max_leaf_nodes=9,\n",
            "                       n_estimators=150)\n",
            "CPU times: user 3min 41s, sys: 621 ms, total: 3min 41s\n",
            "Wall time: 3min 42s\n"
          ]
        }
      ]
    },
    {
      "cell_type": "code",
      "source": [
        "%%time\n",
        "# Теперь обновим параметры модели теми, которые получены с помощью RandomizedSearchCV.\n",
        "\n",
        "model_random = RandomForestClassifier(max_depth=6,\n",
        "\t\t\t\t\t\t\t\t\tmax_features=None,\n",
        "\t\t\t\t\t\t\t\t\tmax_leaf_nodes=9,\n",
        "\t\t\t\t\t\t\t\t\tn_estimators=150)\n",
        "model_random.fit(X_train, y_train)\n",
        "y_pred_rand = model.predict(X_test)\n",
        "print(classification_report(y_pred_rand, y_test))\n"
      ],
      "metadata": {
        "colab": {
          "base_uri": "https://localhost:8080/"
        },
        "id": "1sB_sgCZANI8",
        "outputId": "afe4bb89-3a67-429c-808f-9dd5d7f6fd35"
      },
      "execution_count": null,
      "outputs": [
        {
          "output_type": "stream",
          "name": "stdout",
          "text": [
            "              precision    recall  f1-score   support\n",
            "\n",
            "           0       0.74      0.77      0.75       329\n",
            "           1       0.82      0.79      0.80       422\n",
            "\n",
            "    accuracy                           0.78       751\n",
            "   macro avg       0.78      0.78      0.78       751\n",
            "weighted avg       0.78      0.78      0.78       751\n",
            "\n",
            "CPU times: user 32.2 s, sys: 44.6 ms, total: 32.3 s\n",
            "Wall time: 34.5 s\n"
          ]
        }
      ]
    },
    {
      "cell_type": "code",
      "source": [
        "%%time\n",
        "# испытание с n_estimator=50 и его влияние на модель\n",
        "model_random = RandomForestClassifier(max_depth=9,\n",
        "\t\t\t\t\t\t\t\t\tmax_features=None,\n",
        "\t\t\t\t\t\t\t\t\tmax_leaf_nodes=9,\n",
        "\t\t\t\t\t\t\t\t\tn_estimators=50)\n",
        "model_random.fit(X_train, y_train)\n",
        "y_pred_rand = model.predict(X_test)\n",
        "print(classification_report(y_pred_rand, y_test))"
      ],
      "metadata": {
        "colab": {
          "base_uri": "https://localhost:8080/"
        },
        "id": "V2jDZ_FKANQD",
        "outputId": "b9871310-d7e9-43c2-e9d6-c0df5f0fdbbf"
      },
      "execution_count": null,
      "outputs": [
        {
          "output_type": "stream",
          "name": "stdout",
          "text": [
            "              precision    recall  f1-score   support\n",
            "\n",
            "           0       0.74      0.77      0.75       329\n",
            "           1       0.82      0.79      0.80       422\n",
            "\n",
            "    accuracy                           0.78       751\n",
            "   macro avg       0.78      0.78      0.78       751\n",
            "weighted avg       0.78      0.78      0.78       751\n",
            "\n",
            "CPU times: user 10.6 s, sys: 27.9 ms, total: 10.7 s\n",
            "Wall time: 10.7 s\n"
          ]
        }
      ]
    },
    {
      "cell_type": "markdown",
      "source": [
        "# LogisticRegression\n",
        "\n",
        "- Построение модели логистической регрессии\n",
        "- Настройка гиперпараметров - GridSearchCV\n",
        "- Настройка гиперпараметров - RandomizedSearchCV"
      ],
      "metadata": {
        "id": "xoQXyPMKVqnK"
      }
    },
    {
      "cell_type": "code",
      "source": [
        "%%time\n",
        "\n",
        "from sklearn.datasets import make_classification\n",
        "from sklearn.model_selection import train_test_split, GridSearchCV\n",
        "from sklearn.linear_model import LogisticRegression\n",
        "import numpy as np\n",
        "\n",
        "\n",
        "random_seed = 42\n",
        "# Генерация данных\n",
        "X = data.drop(['Activity'], axis=1)\n",
        "y = data['Activity']\n",
        "\n",
        "# Разделение на тренировочную и тестовую выборки\n",
        "X_train, X_test, y_train, y_test = train_test_split(X, y, test_size=0.3, random_state=42)\n",
        "\n",
        "# Определение параметров для GridSearchCV\n",
        "param_grid = {\n",
        "    'C': np.logspace(-4, 4, 10),\n",
        "    'penalty': ['l1', 'l2'],\n",
        "    'solver': ['liblinear']  # liblinear поддерживает l1 и l2\n",
        "}\n",
        "\n",
        "# Инициализация логистической регрессии\n",
        "model_lr = LogisticRegression(max_iter=1000)\n",
        "\n",
        "# Настройка GridSearchCV\n",
        "grid_search = GridSearchCV(estimator=model_lr, param_grid=param_grid, scoring='f1', n_jobs=-1, cv=5)\n",
        "grid_search.fit(X_train, y_train)\n",
        "\n",
        "# Использование best_estimator_ для предсказаний\n",
        "best_model = grid_search.best_estimator_\n",
        "print(best_model)\n",
        "\n",
        "# фрагмент кода выполнит поиск наилучших параметров\n",
        "# и вычислит конечный F1-score на тестовом наборе (по условиям задачи)\n",
        "\n",
        "# Предсказания и оценка\n",
        "y_pred = best_model.predict(X_test)\n",
        "\n",
        "f1 = f1_score(y_test, y_pred)\n",
        "print(\"F1-score на тестовом наборе:\", f1)\n"
      ],
      "metadata": {
        "colab": {
          "base_uri": "https://localhost:8080/"
        },
        "id": "9S8MWe_qukpy",
        "outputId": "9272c345-60e3-475d-f2b8-9e65d5dd5191"
      },
      "execution_count": null,
      "outputs": [
        {
          "output_type": "stream",
          "name": "stdout",
          "text": [
            "LogisticRegression(C=0.3593813663804626, max_iter=1000, penalty='l1',\n",
            "                   solver='liblinear')\n",
            "F1-score на тестовом наборе: 0.7955801104972375\n",
            "CPU times: user 6.09 s, sys: 1.25 s, total: 7.34 s\n",
            "Wall time: 8min 43s\n"
          ]
        }
      ]
    },
    {
      "cell_type": "code",
      "source": [
        "%%time\n",
        "\n",
        "import numpy as np\n",
        "from sklearn.datasets import make_classification\n",
        "from sklearn.model_selection import train_test_split, RandomizedSearchCV\n",
        "from sklearn.linear_model import LogisticRegression\n",
        "from sklearn.metrics import f1_score\n",
        "from scipy.stats import uniform\n",
        "\n",
        "random_seed = 42\n",
        "\n",
        "X = data.drop(['Activity'], axis=1)\n",
        "y = data['Activity']\n",
        "\n",
        "# Разделение на тренировочную и тестовую выборки\n",
        "X_train, X_test, y_train, y_test = train_test_split(X, y, test_size=0.3, random_state=42)\n",
        "\n",
        "# Определение параметров для RandomizedSearchCV\n",
        "param_distributions = {\n",
        "    'C': uniform(loc=0.001, scale=1000),  # Генерация значений C в диапазоне (0.001, 1000)\n",
        "    'penalty': ['l1', 'l2'],\n",
        "    'solver': ['liblinear']  # liblinear поддерживает l1 и l2\n",
        "}\n",
        "\n",
        "# Инициализация логистической регрессии\n",
        "model_lr = LogisticRegression()\n",
        "\n",
        "# Настройка RandomizedSearchCV\n",
        "random_search = RandomizedSearchCV(estimator=model_lr,\n",
        "                                   param_distributions=param_distributions,\n",
        "                                   n_iter=50,  # Количество случайных выборок\n",
        "                                   scoring='f1',\n",
        "                                   n_jobs=-1,\n",
        "                                   cv=5,\n",
        "                                   random_state=42)\n",
        "\n",
        "# Обучение\n",
        "random_search.fit(X_train, y_train)\n",
        "\n",
        "# Использование best_estimator_ для предсказаний\n",
        "best_model = random_search.best_estimator_\n",
        "\n",
        "# Вывод лучшей модели\n",
        "print(\"Лучшая модель:\", best_model)\n",
        "\n",
        "# Предсказания и оценка\n",
        "y_pred = best_model.predict(X_test)\n",
        "f1 = f1_score(y_test, y_pred)\n",
        "\n",
        "# Вывод F1-score на тестовом наборе\n",
        "print(\"F1-score на тестовом наборе:\", f1)\n"
      ],
      "metadata": {
        "colab": {
          "base_uri": "https://localhost:8080/"
        },
        "id": "WuddU-LTwOUl",
        "outputId": "2c1236c2-9bcf-431f-cf49-44db20654119"
      },
      "execution_count": null,
      "outputs": [
        {
          "output_type": "stream",
          "name": "stdout",
          "text": [
            "Лучшая модель: LogisticRegression(C=0.7797658410143283, solver='liblinear')\n",
            "F1-score на тестовом наборе: 0.7927501970055162\n",
            "CPU times: user 14.1 s, sys: 2.47 s, total: 16.6 s\n",
            "Wall time: 22min 48s\n"
          ]
        }
      ]
    },
    {
      "cell_type": "markdown",
      "source": [
        "# Hyperopt"
      ],
      "metadata": {
        "id": "ylddxgKxXl3u"
      }
    },
    {
      "cell_type": "code",
      "source": [
        "\n",
        "\n",
        "from hyperopt import hp\n",
        "import numpy as np\n",
        "from hyperopt import fmin, tpe, hp, Trials, STATUS_OK  # Import all needed components from hyperopt\n",
        "from sklearn.ensemble import RandomForestClassifier\n",
        "from sklearn.metrics import f1_score\n",
        "from sklearn.model_selection import train_test_split\n",
        "\n",
        "\n",
        "# Определение функции для оптимизации\n",
        "def objective(params):\n",
        "    model_lr = LogisticRegression(\n",
        "        C=params['C'],\n",
        "        penalty=params['penalty'],\n",
        "        solver='liblinear'\n",
        "    )\n",
        "    model_lr.fit(X_train, y_train)\n",
        "    f1 = f1_score(y_test, model_lr.predict(X_test))\n",
        "    return {'loss': -f1, 'status': STATUS_OK}\n",
        "\n",
        "# Определение пространства поиска\n",
        "space = {\n",
        "    'C': hp.loguniform('C', np.log(1e-4), np.log(1e4)),\n",
        "    'penalty': hp.choice('penalty', ['l1', 'l2'])\n",
        "}\n",
        "\n",
        "# Запуск Hyperopt\n",
        "trials = Trials()\n",
        "best_hyperopt = fmin(fn=objective, space=space, algo=tpe.suggest, max_evals=50, trials=trials)\n",
        "\n",
        "print(\"Лучшие параметры (Hyperopt):\", best_hyperopt)\n"
      ],
      "metadata": {
        "colab": {
          "base_uri": "https://localhost:8080/"
        },
        "id": "w3edzXYAQ142",
        "outputId": "5e5ac2cc-5612-4299-eb68-9c599706d5f1"
      },
      "execution_count": null,
      "outputs": [
        {
          "output_type": "stream",
          "name": "stdout",
          "text": [
            "  8%|▊         | 4/50 [01:04<18:42, 24.40s/trial, best loss: -0.7924528301886793]"
          ]
        },
        {
          "output_type": "stream",
          "name": "stderr",
          "text": [
            "/usr/local/lib/python3.10/dist-packages/sklearn/svm/_base.py:1235: ConvergenceWarning: Liblinear failed to converge, increase the number of iterations.\n",
            "  warnings.warn(\n",
            "\n"
          ]
        },
        {
          "output_type": "stream",
          "name": "stdout",
          "text": [
            "100%|██████████| 50/50 [04:38<00:00,  5.57s/trial, best loss: -0.7990654205607477]\n",
            "Лучшие параметры (Hyperopt): {'C': 0.12575576334438587, 'penalty': 0}\n"
          ]
        }
      ]
    },
    {
      "cell_type": "markdown",
      "source": [
        "### Обновить модель\n",
        "\n",
        "- обновим параметры модели теми, которые получены с помощью Hyperopt"
      ],
      "metadata": {
        "id": "gwVMa-a8YYjG"
      }
    },
    {
      "cell_type": "code",
      "source": [
        "%%time\n",
        "from sklearn.linear_model import LogisticRegression\n",
        "from sklearn.metrics import f1_score\n",
        "\n",
        "\n",
        "penalty_hyperopt = 'l1' if best_hyperopt['penalty'] == 0 else 'l2'\n",
        "C_hyperopt = best_hyperopt['C']\n",
        "\n",
        "#  Logistic Regression model с best parameters от Hyperopt\n",
        "best_model_hyperopt = LogisticRegression(C=C_hyperopt, penalty=penalty_hyperopt, solver='liblinear', random_state=42)\n",
        "\n",
        "# обучим model on the training data\n",
        "best_model_hyperopt.fit(X_train, y_train)\n",
        "\n",
        "# Прогноз на  test set\n",
        "y_pred_hyperopt = best_model_hyperopt.predict(X_test)\n",
        "\n",
        "# подсчет F1-score на test set\n",
        "f1_score_hyperopt = f1_score(y_test, y_pred_hyperopt)\n",
        "print(\"F1-score on the test set with optimized parameters (Hyperopt):\", f1_score_hyperopt)\n"
      ],
      "metadata": {
        "colab": {
          "base_uri": "https://localhost:8080/"
        },
        "id": "DZWqAHUhgih_",
        "outputId": "49391f75-ede1-4c43-8c65-a589e8697455"
      },
      "execution_count": null,
      "outputs": [
        {
          "output_type": "stream",
          "name": "stdout",
          "text": [
            "F1-score on the test set with optimized parameters (Hyperopt): 0.7990654205607477\n",
            "CPU times: user 312 ms, sys: 25.1 ms, total: 337 ms\n",
            "Wall time: 329 ms\n"
          ]
        }
      ]
    },
    {
      "cell_type": "markdown",
      "source": [
        "# Optuna"
      ],
      "metadata": {
        "id": "GakEbiyrXuy3"
      }
    },
    {
      "cell_type": "code",
      "source": [
        "%%time\n",
        "\n",
        "import optuna\n",
        "import numpy as np\n",
        "from hyperopt import fmin, tpe, hp, Trials, STATUS_OK\n",
        "from sklearn.ensemble import RandomForestClassifier\n",
        "from sklearn.metrics import f1_score\n",
        "from sklearn.model_selection import train_test_split\n",
        "\n",
        "# Определение функции для оптимизации\n",
        "def optuna_objective(trial):\n",
        "    model_lr = LogisticRegression(\n",
        "        C=trial.suggest_loguniform('C', 1e-4, 1e4),\n",
        "        penalty=trial.suggest_categorical('penalty', ['l1', 'l2']),\n",
        "        solver='liblinear'\n",
        "    )\n",
        "    model_lr.fit(X_train, y_train)\n",
        "    f1 = f1_score(y_test, model_lr.predict(X_test))\n",
        "    return f1\n",
        "\n",
        "# Создание объекта исследования\n",
        "study = optuna.create_study(direction='maximize')\n",
        "study.optimize(optuna_objective, n_trials=50)\n",
        "\n",
        "print(\"Лучшие параметры (Optuna):\", study.best_params)\n",
        "print(\"Лучший F1-score (Optuna):\", study.best_value)\n"
      ],
      "metadata": {
        "colab": {
          "base_uri": "https://localhost:8080/"
        },
        "id": "b8O12NvVQ5wc",
        "outputId": "55d18001-3999-497e-cac8-1cae7bd792c0"
      },
      "execution_count": null,
      "outputs": [
        {
          "output_type": "stream",
          "name": "stderr",
          "text": [
            "[I 2024-10-26 10:55:44,108] A new study created in memory with name: no-name-f7c7e840-4cb9-4208-9288-8fb92cfe7404\n",
            "<timed exec>:11: FutureWarning: suggest_loguniform has been deprecated in v3.0.0. This feature will be removed in v6.0.0. See https://github.com/optuna/optuna/releases/tag/v3.0.0. Use suggest_float(..., log=True) instead.\n",
            "[I 2024-10-26 10:55:44,411] Trial 0 finished with value: 0.7642276422764228 and parameters: {'C': 0.0059330451271139345, 'penalty': 'l1'}. Best is trial 0 with value: 0.7642276422764228.\n",
            "<timed exec>:11: FutureWarning: suggest_loguniform has been deprecated in v3.0.0. This feature will be removed in v6.0.0. See https://github.com/optuna/optuna/releases/tag/v3.0.0. Use suggest_float(..., log=True) instead.\n",
            "[I 2024-10-26 10:55:45,612] Trial 1 finished with value: 0.7760252365930599 and parameters: {'C': 6.178884426551312, 'penalty': 'l2'}. Best is trial 1 with value: 0.7760252365930599.\n",
            "<timed exec>:11: FutureWarning: suggest_loguniform has been deprecated in v3.0.0. This feature will be removed in v6.0.0. See https://github.com/optuna/optuna/releases/tag/v3.0.0. Use suggest_float(..., log=True) instead.\n",
            "[I 2024-10-26 10:55:45,874] Trial 2 finished with value: 0.7642526964560863 and parameters: {'C': 0.0010672769314192087, 'penalty': 'l2'}. Best is trial 1 with value: 0.7760252365930599.\n",
            "<timed exec>:11: FutureWarning: suggest_loguniform has been deprecated in v3.0.0. This feature will be removed in v6.0.0. See https://github.com/optuna/optuna/releases/tag/v3.0.0. Use suggest_float(..., log=True) instead.\n",
            "[I 2024-10-26 10:55:46,203] Trial 3 finished with value: 0.7981293842556508 and parameters: {'C': 0.12528662911138355, 'penalty': 'l1'}. Best is trial 3 with value: 0.7981293842556508.\n",
            "<timed exec>:11: FutureWarning: suggest_loguniform has been deprecated in v3.0.0. This feature will be removed in v6.0.0. See https://github.com/optuna/optuna/releases/tag/v3.0.0. Use suggest_float(..., log=True) instead.\n",
            "[I 2024-10-26 10:55:46,389] Trial 4 finished with value: 0.7617668356263577 and parameters: {'C': 0.0004855983573798921, 'penalty': 'l2'}. Best is trial 3 with value: 0.7981293842556508.\n",
            "<timed exec>:11: FutureWarning: suggest_loguniform has been deprecated in v3.0.0. This feature will be removed in v6.0.0. See https://github.com/optuna/optuna/releases/tag/v3.0.0. Use suggest_float(..., log=True) instead.\n",
            "[I 2024-10-26 10:55:46,648] Trial 5 finished with value: 0.7936507936507936 and parameters: {'C': 0.025289696366529436, 'penalty': 'l2'}. Best is trial 3 with value: 0.7981293842556508.\n",
            "<timed exec>:11: FutureWarning: suggest_loguniform has been deprecated in v3.0.0. This feature will be removed in v6.0.0. See https://github.com/optuna/optuna/releases/tag/v3.0.0. Use suggest_float(..., log=True) instead.\n",
            "[I 2024-10-26 10:55:46,871] Trial 6 finished with value: 0.7719021310181531 and parameters: {'C': 0.0027195031186485067, 'penalty': 'l2'}. Best is trial 3 with value: 0.7981293842556508.\n",
            "<timed exec>:11: FutureWarning: suggest_loguniform has been deprecated in v3.0.0. This feature will be removed in v6.0.0. See https://github.com/optuna/optuna/releases/tag/v3.0.0. Use suggest_float(..., log=True) instead.\n",
            "[I 2024-10-26 10:55:47,021] Trial 7 finished with value: 0.0 and parameters: {'C': 0.0010396986362651427, 'penalty': 'l1'}. Best is trial 3 with value: 0.7981293842556508.\n",
            "<timed exec>:11: FutureWarning: suggest_loguniform has been deprecated in v3.0.0. This feature will be removed in v6.0.0. See https://github.com/optuna/optuna/releases/tag/v3.0.0. Use suggest_float(..., log=True) instead.\n",
            "[I 2024-10-26 10:55:47,199] Trial 8 finished with value: 0.7642276422764228 and parameters: {'C': 0.01824065689030364, 'penalty': 'l1'}. Best is trial 3 with value: 0.7981293842556508.\n",
            "<timed exec>:11: FutureWarning: suggest_loguniform has been deprecated in v3.0.0. This feature will be removed in v6.0.0. See https://github.com/optuna/optuna/releases/tag/v3.0.0. Use suggest_float(..., log=True) instead.\n",
            "[I 2024-10-26 10:55:47,482] Trial 9 finished with value: 0.7943262411347518 and parameters: {'C': 0.03643368307339666, 'penalty': 'l2'}. Best is trial 3 with value: 0.7981293842556508.\n",
            "<timed exec>:11: FutureWarning: suggest_loguniform has been deprecated in v3.0.0. This feature will be removed in v6.0.0. See https://github.com/optuna/optuna/releases/tag/v3.0.0. Use suggest_float(..., log=True) instead.\n",
            "/usr/local/lib/python3.10/dist-packages/sklearn/svm/_base.py:1235: ConvergenceWarning: Liblinear failed to converge, increase the number of iterations.\n",
            "  warnings.warn(\n",
            "[I 2024-10-26 10:57:36,133] Trial 10 finished with value: 0.710968775020016 and parameters: {'C': 2096.1829717259357, 'penalty': 'l1'}. Best is trial 3 with value: 0.7981293842556508.\n",
            "<timed exec>:11: FutureWarning: suggest_loguniform has been deprecated in v3.0.0. This feature will be removed in v6.0.0. See https://github.com/optuna/optuna/releases/tag/v3.0.0. Use suggest_float(..., log=True) instead.\n",
            "[I 2024-10-26 10:57:38,754] Trial 11 finished with value: 0.7828843106180665 and parameters: {'C': 1.5168993772147132, 'penalty': 'l1'}. Best is trial 3 with value: 0.7981293842556508.\n",
            "<timed exec>:11: FutureWarning: suggest_loguniform has been deprecated in v3.0.0. This feature will be removed in v6.0.0. See https://github.com/optuna/optuna/releases/tag/v3.0.0. Use suggest_float(..., log=True) instead.\n",
            "[I 2024-10-26 10:57:39,188] Trial 12 finished with value: 0.7955974842767296 and parameters: {'C': 0.3107422013353517, 'penalty': 'l1'}. Best is trial 3 with value: 0.7981293842556508.\n",
            "<timed exec>:11: FutureWarning: suggest_loguniform has been deprecated in v3.0.0. This feature will be removed in v6.0.0. See https://github.com/optuna/optuna/releases/tag/v3.0.0. Use suggest_float(..., log=True) instead.\n",
            "[I 2024-10-26 10:57:50,490] Trial 13 finished with value: 0.7417004048582996 and parameters: {'C': 32.75465005654631, 'penalty': 'l1'}. Best is trial 3 with value: 0.7981293842556508.\n",
            "<timed exec>:11: FutureWarning: suggest_loguniform has been deprecated in v3.0.0. This feature will be removed in v6.0.0. See https://github.com/optuna/optuna/releases/tag/v3.0.0. Use suggest_float(..., log=True) instead.\n",
            "[I 2024-10-26 10:57:50,812] Trial 14 finished with value: 0.7943485086342229 and parameters: {'C': 0.29095006347941677, 'penalty': 'l1'}. Best is trial 3 with value: 0.7981293842556508.\n",
            "<timed exec>:11: FutureWarning: suggest_loguniform has been deprecated in v3.0.0. This feature will be removed in v6.0.0. See https://github.com/optuna/optuna/releases/tag/v3.0.0. Use suggest_float(..., log=True) instead.\n",
            "[I 2024-10-26 10:58:10,890] Trial 15 finished with value: 0.7059787059787059 and parameters: {'C': 134.66920333874594, 'penalty': 'l1'}. Best is trial 3 with value: 0.7981293842556508.\n",
            "<timed exec>:11: FutureWarning: suggest_loguniform has been deprecated in v3.0.0. This feature will be removed in v6.0.0. See https://github.com/optuna/optuna/releases/tag/v3.0.0. Use suggest_float(..., log=True) instead.\n",
            "[I 2024-10-26 10:58:11,203] Trial 16 finished with value: 0.7965571205007824 and parameters: {'C': 0.2773948954491237, 'penalty': 'l1'}. Best is trial 3 with value: 0.7981293842556508.\n",
            "<timed exec>:11: FutureWarning: suggest_loguniform has been deprecated in v3.0.0. This feature will be removed in v6.0.0. See https://github.com/optuna/optuna/releases/tag/v3.0.0. Use suggest_float(..., log=True) instead.\n",
            "[I 2024-10-26 10:58:11,505] Trial 17 finished with value: 0.7909162098668755 and parameters: {'C': 0.19867988001072745, 'penalty': 'l1'}. Best is trial 3 with value: 0.7981293842556508.\n",
            "<timed exec>:11: FutureWarning: suggest_loguniform has been deprecated in v3.0.0. This feature will be removed in v6.0.0. See https://github.com/optuna/optuna/releases/tag/v3.0.0. Use suggest_float(..., log=True) instead.\n",
            "[I 2024-10-26 10:58:16,814] Trial 18 finished with value: 0.7640094711917916 and parameters: {'C': 5.53282768701025, 'penalty': 'l1'}. Best is trial 3 with value: 0.7981293842556508.\n",
            "<timed exec>:11: FutureWarning: suggest_loguniform has been deprecated in v3.0.0. This feature will be removed in v6.0.0. See https://github.com/optuna/optuna/releases/tag/v3.0.0. Use suggest_float(..., log=True) instead.\n",
            "[I 2024-10-26 10:58:39,074] Trial 19 finished with value: 0.7139364303178484 and parameters: {'C': 217.7679224967276, 'penalty': 'l1'}. Best is trial 3 with value: 0.7981293842556508.\n",
            "<timed exec>:11: FutureWarning: suggest_loguniform has been deprecated in v3.0.0. This feature will be removed in v6.0.0. See https://github.com/optuna/optuna/releases/tag/v3.0.0. Use suggest_float(..., log=True) instead.\n",
            "[I 2024-10-26 10:58:42,497] Trial 20 finished with value: 0.7880220646178093 and parameters: {'C': 3.4842912713712106, 'penalty': 'l1'}. Best is trial 3 with value: 0.7981293842556508.\n",
            "<timed exec>:11: FutureWarning: suggest_loguniform has been deprecated in v3.0.0. This feature will be removed in v6.0.0. See https://github.com/optuna/optuna/releases/tag/v3.0.0. Use suggest_float(..., log=True) instead.\n",
            "[I 2024-10-26 10:58:42,918] Trial 21 finished with value: 0.7940717628705148 and parameters: {'C': 0.1826879061515189, 'penalty': 'l1'}. Best is trial 3 with value: 0.7981293842556508.\n",
            "<timed exec>:11: FutureWarning: suggest_loguniform has been deprecated in v3.0.0. This feature will be removed in v6.0.0. See https://github.com/optuna/optuna/releases/tag/v3.0.0. Use suggest_float(..., log=True) instead.\n",
            "[I 2024-10-26 10:58:43,485] Trial 22 finished with value: 0.7915360501567398 and parameters: {'C': 0.4786439243128397, 'penalty': 'l1'}. Best is trial 3 with value: 0.7981293842556508.\n",
            "<timed exec>:11: FutureWarning: suggest_loguniform has been deprecated in v3.0.0. This feature will be removed in v6.0.0. See https://github.com/optuna/optuna/releases/tag/v3.0.0. Use suggest_float(..., log=True) instead.\n",
            "[I 2024-10-26 10:58:43,729] Trial 23 finished with value: 0.0 and parameters: {'C': 0.00011773164225463927, 'penalty': 'l1'}. Best is trial 3 with value: 0.7981293842556508.\n",
            "<timed exec>:11: FutureWarning: suggest_loguniform has been deprecated in v3.0.0. This feature will be removed in v6.0.0. See https://github.com/optuna/optuna/releases/tag/v3.0.0. Use suggest_float(..., log=True) instead.\n",
            "[I 2024-10-26 10:58:44,036] Trial 24 finished with value: 0.7858823529411765 and parameters: {'C': 0.06546777397128901, 'penalty': 'l1'}. Best is trial 3 with value: 0.7981293842556508.\n",
            "<timed exec>:11: FutureWarning: suggest_loguniform has been deprecated in v3.0.0. This feature will be removed in v6.0.0. See https://github.com/optuna/optuna/releases/tag/v3.0.0. Use suggest_float(..., log=True) instead.\n",
            "[I 2024-10-26 10:58:44,952] Trial 25 finished with value: 0.7854315122723674 and parameters: {'C': 1.0725469207127483, 'penalty': 'l1'}. Best is trial 3 with value: 0.7981293842556508.\n",
            "<timed exec>:11: FutureWarning: suggest_loguniform has been deprecated in v3.0.0. This feature will be removed in v6.0.0. See https://github.com/optuna/optuna/releases/tag/v3.0.0. Use suggest_float(..., log=True) instead.\n",
            "[I 2024-10-26 10:58:51,532] Trial 26 finished with value: 0.7469879518072289 and parameters: {'C': 13.983925600961099, 'penalty': 'l1'}. Best is trial 3 with value: 0.7981293842556508.\n",
            "<timed exec>:11: FutureWarning: suggest_loguniform has been deprecated in v3.0.0. This feature will be removed in v6.0.0. See https://github.com/optuna/optuna/releases/tag/v3.0.0. Use suggest_float(..., log=True) instead.\n",
            "[I 2024-10-26 10:58:51,809] Trial 27 finished with value: 0.796583850931677 and parameters: {'C': 0.10079702491480301, 'penalty': 'l1'}. Best is trial 3 with value: 0.7981293842556508.\n",
            "<timed exec>:11: FutureWarning: suggest_loguniform has been deprecated in v3.0.0. This feature will be removed in v6.0.0. See https://github.com/optuna/optuna/releases/tag/v3.0.0. Use suggest_float(..., log=True) instead.\n",
            "[I 2024-10-26 10:58:52,014] Trial 28 finished with value: 0.7642276422764228 and parameters: {'C': 0.005819794078416767, 'penalty': 'l1'}. Best is trial 3 with value: 0.7981293842556508.\n",
            "<timed exec>:11: FutureWarning: suggest_loguniform has been deprecated in v3.0.0. This feature will be removed in v6.0.0. See https://github.com/optuna/optuna/releases/tag/v3.0.0. Use suggest_float(..., log=True) instead.\n",
            "[I 2024-10-26 10:58:52,265] Trial 29 finished with value: 0.7887323943661971 and parameters: {'C': 0.0809588251840585, 'penalty': 'l1'}. Best is trial 3 with value: 0.7981293842556508.\n",
            "<timed exec>:11: FutureWarning: suggest_loguniform has been deprecated in v3.0.0. This feature will be removed in v6.0.0. See https://github.com/optuna/optuna/releases/tag/v3.0.0. Use suggest_float(..., log=True) instead.\n",
            "[I 2024-10-26 10:58:52,441] Trial 30 finished with value: 0.7642276422764228 and parameters: {'C': 0.007282006552903591, 'penalty': 'l1'}. Best is trial 3 with value: 0.7981293842556508.\n",
            "<timed exec>:11: FutureWarning: suggest_loguniform has been deprecated in v3.0.0. This feature will be removed in v6.0.0. See https://github.com/optuna/optuna/releases/tag/v3.0.0. Use suggest_float(..., log=True) instead.\n",
            "[I 2024-10-26 10:58:52,894] Trial 31 finished with value: 0.7984313725490196 and parameters: {'C': 0.5779372765152537, 'penalty': 'l1'}. Best is trial 31 with value: 0.7984313725490196.\n",
            "<timed exec>:11: FutureWarning: suggest_loguniform has been deprecated in v3.0.0. This feature will be removed in v6.0.0. See https://github.com/optuna/optuna/releases/tag/v3.0.0. Use suggest_float(..., log=True) instead.\n",
            "[I 2024-10-26 10:58:53,632] Trial 32 finished with value: 0.7816455696202531 and parameters: {'C': 1.3179934535885465, 'penalty': 'l1'}. Best is trial 31 with value: 0.7984313725490196.\n",
            "<timed exec>:11: FutureWarning: suggest_loguniform has been deprecated in v3.0.0. This feature will be removed in v6.0.0. See https://github.com/optuna/optuna/releases/tag/v3.0.0. Use suggest_float(..., log=True) instead.\n",
            "[I 2024-10-26 10:58:53,917] Trial 33 finished with value: 0.7953307392996108 and parameters: {'C': 0.09346366581267625, 'penalty': 'l1'}. Best is trial 31 with value: 0.7984313725490196.\n",
            "<timed exec>:11: FutureWarning: suggest_loguniform has been deprecated in v3.0.0. This feature will be removed in v6.0.0. See https://github.com/optuna/optuna/releases/tag/v3.0.0. Use suggest_float(..., log=True) instead.\n",
            "[I 2024-10-26 10:58:54,181] Trial 34 finished with value: 0.7882632831086439 and parameters: {'C': 0.009484363527639119, 'penalty': 'l2'}. Best is trial 31 with value: 0.7984313725490196.\n",
            "<timed exec>:11: FutureWarning: suggest_loguniform has been deprecated in v3.0.0. This feature will be removed in v6.0.0. See https://github.com/optuna/optuna/releases/tag/v3.0.0. Use suggest_float(..., log=True) instead.\n",
            "[I 2024-10-26 10:58:54,716] Trial 35 finished with value: 0.7924230465666929 and parameters: {'C': 0.6636701258680289, 'penalty': 'l2'}. Best is trial 31 with value: 0.7984313725490196.\n",
            "<timed exec>:11: FutureWarning: suggest_loguniform has been deprecated in v3.0.0. This feature will be removed in v6.0.0. See https://github.com/optuna/optuna/releases/tag/v3.0.0. Use suggest_float(..., log=True) instead.\n",
            "[I 2024-10-26 10:58:57,170] Trial 36 finished with value: 0.7864460204885737 and parameters: {'C': 3.333706709952575, 'penalty': 'l1'}. Best is trial 31 with value: 0.7984313725490196.\n",
            "<timed exec>:11: FutureWarning: suggest_loguniform has been deprecated in v3.0.0. This feature will be removed in v6.0.0. See https://github.com/optuna/optuna/releases/tag/v3.0.0. Use suggest_float(..., log=True) instead.\n",
            "[I 2024-10-26 10:58:57,579] Trial 37 finished with value: 0.7949326999208234 and parameters: {'C': 0.029550648428223324, 'penalty': 'l2'}. Best is trial 31 with value: 0.7984313725490196.\n",
            "<timed exec>:11: FutureWarning: suggest_loguniform has been deprecated in v3.0.0. This feature will be removed in v6.0.0. See https://github.com/optuna/optuna/releases/tag/v3.0.0. Use suggest_float(..., log=True) instead.\n",
            "[I 2024-10-26 10:58:57,823] Trial 38 finished with value: 0.0 and parameters: {'C': 0.002318507947771747, 'penalty': 'l1'}. Best is trial 31 with value: 0.7984313725490196.\n",
            "<timed exec>:11: FutureWarning: suggest_loguniform has been deprecated in v3.0.0. This feature will be removed in v6.0.0. See https://github.com/optuna/optuna/releases/tag/v3.0.0. Use suggest_float(..., log=True) instead.\n",
            "[I 2024-10-26 10:58:59,309] Trial 39 finished with value: 0.7720413026211279 and parameters: {'C': 11.617958869176029, 'penalty': 'l2'}. Best is trial 31 with value: 0.7984313725490196.\n",
            "<timed exec>:11: FutureWarning: suggest_loguniform has been deprecated in v3.0.0. This feature will be removed in v6.0.0. See https://github.com/optuna/optuna/releases/tag/v3.0.0. Use suggest_float(..., log=True) instead.\n",
            "[I 2024-10-26 10:58:59,647] Trial 40 finished with value: 0.7981293842556508 and parameters: {'C': 0.11916345295017876, 'penalty': 'l1'}. Best is trial 31 with value: 0.7984313725490196.\n",
            "<timed exec>:11: FutureWarning: suggest_loguniform has been deprecated in v3.0.0. This feature will be removed in v6.0.0. See https://github.com/optuna/optuna/releases/tag/v3.0.0. Use suggest_float(..., log=True) instead.\n",
            "[I 2024-10-26 10:58:59,930] Trial 41 finished with value: 0.7981293842556508 and parameters: {'C': 0.11092606191352053, 'penalty': 'l1'}. Best is trial 31 with value: 0.7984313725490196.\n",
            "<timed exec>:11: FutureWarning: suggest_loguniform has been deprecated in v3.0.0. This feature will be removed in v6.0.0. See https://github.com/optuna/optuna/releases/tag/v3.0.0. Use suggest_float(..., log=True) instead.\n",
            "[I 2024-10-26 10:59:00,146] Trial 42 finished with value: 0.7777777777777778 and parameters: {'C': 0.05217372142860971, 'penalty': 'l1'}. Best is trial 31 with value: 0.7984313725490196.\n",
            "<timed exec>:11: FutureWarning: suggest_loguniform has been deprecated in v3.0.0. This feature will be removed in v6.0.0. See https://github.com/optuna/optuna/releases/tag/v3.0.0. Use suggest_float(..., log=True) instead.\n",
            "[I 2024-10-26 10:59:00,337] Trial 43 finished with value: 0.7642276422764228 and parameters: {'C': 0.013601209840820387, 'penalty': 'l1'}. Best is trial 31 with value: 0.7984313725490196.\n",
            "<timed exec>:11: FutureWarning: suggest_loguniform has been deprecated in v3.0.0. This feature will be removed in v6.0.0. See https://github.com/optuna/optuna/releases/tag/v3.0.0. Use suggest_float(..., log=True) instead.\n",
            "[I 2024-10-26 10:59:00,624] Trial 44 finished with value: 0.797191887675507 and parameters: {'C': 0.16852592972727182, 'penalty': 'l1'}. Best is trial 31 with value: 0.7984313725490196.\n",
            "<timed exec>:11: FutureWarning: suggest_loguniform has been deprecated in v3.0.0. This feature will be removed in v6.0.0. See https://github.com/optuna/optuna/releases/tag/v3.0.0. Use suggest_float(..., log=True) instead.\n",
            "[I 2024-10-26 10:59:00,813] Trial 45 finished with value: 0.7636068237205524 and parameters: {'C': 0.022652585390918602, 'penalty': 'l1'}. Best is trial 31 with value: 0.7984313725490196.\n",
            "<timed exec>:11: FutureWarning: suggest_loguniform has been deprecated in v3.0.0. This feature will be removed in v6.0.0. See https://github.com/optuna/optuna/releases/tag/v3.0.0. Use suggest_float(..., log=True) instead.\n",
            "/usr/local/lib/python3.10/dist-packages/sklearn/svm/_base.py:1235: ConvergenceWarning: Liblinear failed to converge, increase the number of iterations.\n",
            "  warnings.warn(\n",
            "[I 2024-10-26 10:59:54,312] Trial 46 finished with value: 0.707395498392283 and parameters: {'C': 9478.256369493427, 'penalty': 'l1'}. Best is trial 31 with value: 0.7984313725490196.\n",
            "<timed exec>:11: FutureWarning: suggest_loguniform has been deprecated in v3.0.0. This feature will be removed in v6.0.0. See https://github.com/optuna/optuna/releases/tag/v3.0.0. Use suggest_float(..., log=True) instead.\n",
            "[I 2024-10-26 10:59:55,190] Trial 47 finished with value: 0.7761904761904762 and parameters: {'C': 1.7632379134478537, 'penalty': 'l1'}. Best is trial 31 with value: 0.7984313725490196.\n",
            "<timed exec>:11: FutureWarning: suggest_loguniform has been deprecated in v3.0.0. This feature will be removed in v6.0.0. See https://github.com/optuna/optuna/releases/tag/v3.0.0. Use suggest_float(..., log=True) instead.\n",
            "[I 2024-10-26 10:59:55,675] Trial 48 finished with value: 0.7918303220738413 and parameters: {'C': 0.5757754316511321, 'penalty': 'l2'}. Best is trial 31 with value: 0.7984313725490196.\n",
            "<timed exec>:11: FutureWarning: suggest_loguniform has been deprecated in v3.0.0. This feature will be removed in v6.0.0. See https://github.com/optuna/optuna/releases/tag/v3.0.0. Use suggest_float(..., log=True) instead.\n",
            "[I 2024-10-26 10:59:55,965] Trial 49 finished with value: 0.7965705378020265 and parameters: {'C': 0.17073987639142765, 'penalty': 'l1'}. Best is trial 31 with value: 0.7984313725490196.\n"
          ]
        },
        {
          "output_type": "stream",
          "name": "stdout",
          "text": [
            "Лучшие параметры (Optuna): {'C': 0.5779372765152537, 'penalty': 'l1'}\n",
            "Лучший F1-score (Optuna): 0.7984313725490196\n",
            "CPU times: user 4min 3s, sys: 5.09 s, total: 4min 8s\n",
            "Wall time: 4min 12s\n"
          ]
        }
      ]
    },
    {
      "cell_type": "markdown",
      "source": [
        "### Обновить модель\n",
        "\n",
        "- обновим параметры модели теми, которые получены с помощью Optuna"
      ],
      "metadata": {
        "id": "dsKE6l-PYFlQ"
      }
    },
    {
      "cell_type": "code",
      "source": [
        "%%time\n",
        "\n",
        "from sklearn.linear_model import LogisticRegression\n",
        "\n",
        "# используем best parameters найденная  by Optuna\n",
        "best_params_optuna = {'C': 0.5779372765152537, 'penalty': 'l1'}\n",
        "best_model_optuna = LogisticRegression(**best_params_optuna, solver='liblinear', random_state=42)\n",
        "\n",
        "# обучим модель\n",
        "best_model_optuna.fit(X_train, y_train)\n",
        "\n",
        "# Evaluate on the test set\n",
        "y_pred_optuna = best_model_optuna.predict(X_test)\n",
        "f1_score_optuna = f1_score(y_test, y_pred_optuna)\n",
        "\n",
        "print(\"F1-score on the test set with optimized parameters (Optuna):\", f1_score_optuna)\n"
      ],
      "metadata": {
        "colab": {
          "base_uri": "https://localhost:8080/"
        },
        "id": "L_Uo-bVEgABR",
        "outputId": "0da17b2f-1ab6-4463-cc31-f4ce4a79f867"
      },
      "execution_count": null,
      "outputs": [
        {
          "output_type": "stream",
          "name": "stdout",
          "text": [
            "F1-score on the test set with optimized parameters (Optuna): 0.7962382445141066\n",
            "CPU times: user 1.56 s, sys: 43.2 ms, total: 1.6 s\n",
            "Wall time: 1.65 s\n"
          ]
        }
      ]
    },
    {
      "cell_type": "markdown",
      "source": [
        "##### Лучшие параметры, лучший F1-score и наилучшая модель, найденная в процессе подбора гиперпараметров - модель к  которой были применены методы Optuna и Hyperopt"
      ],
      "metadata": {
        "id": "fRVCnPgrwZbv"
      }
    },
    {
      "cell_type": "code",
      "source": [],
      "metadata": {
        "id": "s5TfRdm2wr6W"
      },
      "execution_count": null,
      "outputs": []
    }
  ]
}